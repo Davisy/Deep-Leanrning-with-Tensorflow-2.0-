{
 "cells": [
  {
   "cell_type": "code",
   "execution_count": 12,
   "metadata": {},
   "outputs": [],
   "source": [
    "# import tensorflow \n",
    "\n",
    "import tensorflow as tf\n",
    "import warnings\n",
    "import matplotlib.pyplot as plt \n",
    "warnings.filterwarnings('ignore') \n",
    "import datetime, os\n",
    "import numpy as np"
   ]
  },
  {
   "cell_type": "code",
   "execution_count": 2,
   "metadata": {},
   "outputs": [
    {
     "data": {
      "text/plain": [
       "'2.0.0'"
      ]
     },
     "execution_count": 2,
     "metadata": {},
     "output_type": "execute_result"
    }
   ],
   "source": [
    "# check version of tensorflow \n",
    "\n",
    "tf.__version__ "
   ]
  },
  {
   "cell_type": "markdown",
   "metadata": {},
   "source": [
    "The first phase is data ingestion and transformation.\n",
    " Here, we take mnist dataset from tensorflow and then split it into training set and test set.\n",
    " Training set trains the model and test-set will test how accurate the model is.\n",
    " We divide them by 255 because the value of data ranges from 0 to 255.\n",
    " Now by dividing it, the range is between 0 to 1."
   ]
  },
  {
   "cell_type": "code",
   "execution_count": 9,
   "metadata": {},
   "outputs": [],
   "source": [
    "# load the dataset\n",
    "\n",
    "mnist = tf.keras.datasets.mnist\n",
    "\n",
    "# split into train and test\n",
    "(x_train, y_train), (x_test, y_test) = mnist.load_data()\n",
    "\n",
    "#set class names \n",
    "class_names = [\"0\",\"1\",\"2\",\"3\",\"4\",\"5\",\"6\",\"7\",\"8\",\"9\"]\n",
    "\n",
    "#normalize the images\n",
    "x_train, x_test = x_train / 255.0, x_test / 255.0"
   ]
  },
  {
   "cell_type": "code",
   "execution_count": 5,
   "metadata": {},
   "outputs": [
    {
     "data": {
      "image/png": "[encoded data removed]",
      "text/plain": [
       "<Figure size 432x288 with 1 Axes>"
      ]
     },
     "metadata": {
      "needs_background": "light"
     },
     "output_type": "display_data"
    }
   ],
   "source": [
    "plt.imshow(x_train[11])\n",
    "plt.show() "
   ]
  },
  {
   "cell_type": "markdown",
   "metadata": {},
   "source": [
    "The code written below describes the model building phase.\n",
    " Here we use a sequential layer in the model which means a sequence of the layer.\n",
    " Flatten reduces the dimension of the model and dense adds layer of the neuron.\n",
    " Each layer needs an activation function which is relu and softmax."
   ]
  },
  {
   "cell_type": "code",
   "execution_count": 6,
   "metadata": {},
   "outputs": [],
   "source": [
    "# create teh model\n",
    "model = tf.keras.models.Sequential([\n",
    "  tf.keras.layers.Flatten(input_shape=(28, 28)),\n",
    "  tf.keras.layers.Dense(128, activation='relu'),\n",
    "  tf.keras.layers.Dropout(0.2),\n",
    "  tf.keras.layers.Dense(128, activation='relu'),\n",
    "  tf.keras.layers.Dropout(0.2),\n",
    "  tf.keras.layers.Dense(10, activation='softmax')])"
   ]
  },
  {
   "cell_type": "markdown",
   "metadata": {},
   "source": [
    "Then compile the model with an optimizer and a loss function.\n",
    " Then, we train the data so that our dataset gives accurate results"
   ]
  },
  {
   "cell_type": "code",
   "execution_count": 7,
   "metadata": {},
   "outputs": [],
   "source": [
    "#compile the model with optimizer and loss function\n",
    "model.compile(optimizer='adam',loss ='sparse_categorical_crossentropy',metrics=['accuracy'])\n",
    "\n"
   ]
  },
  {
   "cell_type": "code",
   "execution_count": 8,
   "metadata": {},
   "outputs": [
    {
     "name": "stdout",
     "output_type": "stream",
     "text": [
      "Train on 60000 samples, validate on 10000 samples\n",
      "Epoch 1/7\n",
      "60000/60000 [==============================] - 13s 214us/sample - loss: 0.3087 - accuracy: 0.9073 - val_loss: 0.1232 - val_accuracy: 0.9624\n",
      "Epoch 2/7\n",
      "60000/60000 [==============================] - 9s 147us/sample - loss: 0.1480 - accuracy: 0.9543 - val_loss: 0.0993 - val_accuracy: 0.9697\n",
      "Epoch 3/7\n",
      "60000/60000 [==============================] - 9s 143us/sample - loss: 0.1164 - accuracy: 0.9640 - val_loss: 0.0853 - val_accuracy: 0.9742\n",
      "Epoch 4/7\n",
      "60000/60000 [==============================] - 8s 141us/sample - loss: 0.0981 - accuracy: 0.9690 - val_loss: 0.0795 - val_accuracy: 0.9744\n",
      "Epoch 5/7\n",
      "60000/60000 [==============================] - 9s 149us/sample - loss: 0.0842 - accuracy: 0.9734 - val_loss: 0.0824 - val_accuracy: 0.9744\n",
      "Epoch 6/7\n",
      "60000/60000 [==============================] - 9s 142us/sample - loss: 0.0767 - accuracy: 0.9754 - val_loss: 0.0773 - val_accuracy: 0.9765\n",
      "Epoch 7/7\n",
      "60000/60000 [==============================] - 9s 144us/sample - loss: 0.0694 - accuracy: 0.9776 - val_loss: 0.0669 - val_accuracy: 0.9792\n"
     ]
    }
   ],
   "source": [
    "#train the model\n",
    "history = model.fit(x_train, y_train, validation_data = (x_test, y_test), epochs=7)"
   ]
  },
  {
   "cell_type": "markdown",
   "metadata": {},
   "source": [
    "Some customization during Training the model "
   ]
  },
  {
   "cell_type": "code",
   "execution_count": 17,
   "metadata": {},
   "outputs": [
    {
     "name": "stdout",
     "output_type": "stream",
     "text": [
      "Train on 60000 samples\n",
      "Epoch 1/5\n",
      "   32/60000 [..............................] - ETA: 1:43 - loss: 0.0137 - accuracy: 1.0000WARNING:tensorflow:Method (on_train_batch_end) is slow compared to the batch update (0.165144). Check your callbacks.\n",
      "59744/60000 [============================>.] - ETA: 0s - loss: 0.0889 - accuracy: 0.9722WARNING:tensorflow:Early stopping conditioned on metric `val_loss` which is not available. Available metrics are: loss,accuracy\n",
      "WARNING:tensorflow:From C:\\ProgramData\\Anaconda3\\lib\\site-packages\\tensorflow_core\\python\\ops\\resource_variable_ops.py:1781: calling BaseResourceVariable.__init__ (from tensorflow.python.ops.resource_variable_ops) with constraint is deprecated and will be removed in a future version.\n",
      "Instructions for updating:\n",
      "If using Keras pass *_constraint arguments to layers.\n",
      "INFO:tensorflow:Assets written to: .\\assets\n",
      "60000/60000 [==============================] - 9s 143us/sample - loss: 0.0889 - accuracy: 0.9722\n",
      "Epoch 2/5\n",
      "59712/60000 [============================>.] - ETA: 0s - loss: 0.0764 - accuracy: 0.9758WARNING:tensorflow:Early stopping conditioned on metric `val_loss` which is not available. Available metrics are: loss,accuracy\n",
      "INFO:tensorflow:Assets written to: .\\assets\n",
      "60000/60000 [==============================] - 8s 138us/sample - loss: 0.0764 - accuracy: 0.9758\n",
      "Epoch 3/5\n",
      "59712/60000 [============================>.] - ETA: 0s - loss: 0.0667 - accuracy: 0.9785WARNING:tensorflow:Early stopping conditioned on metric `val_loss` which is not available. Available metrics are: loss,accuracy\n",
      "INFO:tensorflow:Assets written to: .\\assets\n",
      "60000/60000 [==============================] - 8s 132us/sample - loss: 0.0667 - accuracy: 0.9786\n",
      "Epoch 4/5\n",
      "59776/60000 [============================>.] - ETA: 0s - loss: 0.0602 - accuracy: 0.9811WARNING:tensorflow:Early stopping conditioned on metric `val_loss` which is not available. Available metrics are: loss,accuracy\n",
      "INFO:tensorflow:Assets written to: .\\assets\n",
      "60000/60000 [==============================] - 8s 126us/sample - loss: 0.0603 - accuracy: 0.9811\n",
      "Epoch 5/5\n",
      "59840/60000 [============================>.] - ETA: 0s - loss: 0.0533 - accuracy: 0.9824WARNING:tensorflow:Early stopping conditioned on metric `val_loss` which is not available. Available metrics are: loss,accuracy\n",
      "INFO:tensorflow:Assets written to: .\\assets\n",
      "60000/60000 [==============================] - 8s 129us/sample - loss: 0.0532 - accuracy: 0.9824\n"
     ]
    },
    {
     "data": {
      "text/plain": [
       "<tensorflow.python.keras.callbacks.History at 0x1b505ee46d8>"
      ]
     },
     "execution_count": 17,
     "metadata": {},
     "output_type": "execute_result"
    }
   ],
   "source": [
    "model.fit(x_train,y_train, epochs=5, \n",
    "          callbacks=[tf.keras.callbacks.EarlyStopping(),\n",
    "                     tf.keras.callbacks.TensorBoard(), \n",
    "                     tf.keras.callbacks.ModelCheckpoint('.')])"
   ]
  },
  {
   "cell_type": "markdown",
   "metadata": {},
   "source": [
    "Here, the callbacks are used in model.fit() method. Here, the class Earlystopping() is used so that the model stops training when the improvement in model is stopped. TensorBoard() class is used for providing a visualization of how the model is getting trained. ModelCheckpoint() is used to save the model after every epoch. Here the model will be saved 10 times."
   ]
  },
  {
   "cell_type": "markdown",
   "metadata": {},
   "source": [
    "This function gives us how much accurate is our model on the test set."
   ]
  },
  {
   "cell_type": "code",
   "execution_count": 43,
   "metadata": {},
   "outputs": [
    {
     "data": {
      "text/plain": [
       "[0.09129859392177314, 0.9728]"
      ]
     },
     "execution_count": 43,
     "metadata": {},
     "output_type": "execute_result"
    }
   ],
   "source": [
    "#test the model with the test set \n",
    "model.evaluate(x_test,  y_test, verbose=3)"
   ]
  },
  {
   "cell_type": "code",
   "execution_count": 10,
   "metadata": {},
   "outputs": [
    {
     "data": {
      "text/plain": [
       "<matplotlib.legend.Legend at 0x1d5580060f0>"
      ]
     },
     "execution_count": 10,
     "metadata": {},
     "output_type": "execute_result"
    },
    {
     "data": {
      "image/png": "[encoded data removed]",
      "text/plain": [
       "<Figure size 432x288 with 1 Axes>"
      ]
     },
     "metadata": {
      "needs_background": "light"
     },
     "output_type": "display_data"
    }
   ],
   "source": [
    "#get stats from the history object\n",
    "acc = history.history['accuracy']\n",
    "val_acc = history.history['val_accuracy']\n",
    "epochs = range(len(acc))\n",
    "\n",
    "# plot accuracy vs epochs \n",
    "plt.title('Training and validation accuracy')\n",
    "plt.plot(epochs,acc, color='blue',label=\"Train\")\n",
    "plt.plot(epochs,val_acc, color='orange', label=\"Val\")\n",
    "plt.xlabel('Epochs')\n",
    "plt.ylabel('Accuracy')\n",
    "plt.legend()"
   ]
  },
  {
   "cell_type": "code",
   "execution_count": null,
   "metadata": {},
   "outputs": [],
   "source": [
    "#save the model \n",
    "model.save(\"mnist.h5\")"
   ]
  },
  {
   "cell_type": "code",
   "execution_count": 18,
   "metadata": {},
   "outputs": [
    {
     "name": "stdout",
     "output_type": "stream",
     "text": [
      "3\n"
     ]
    }
   ],
   "source": [
    "# perform prediction \n",
    "\n",
    "predictions = model.predict(x_test)\n",
    "print(class_names[np.argmax(predictions[90])])"
   ]
  },
  {
   "cell_type": "code",
   "execution_count": null,
   "metadata": {},
   "outputs": [],
   "source": []
  }
 ],
 "metadata": {
  "hide_input": false,
  "kernelspec": {
   "display_name": "Python 3",
   "language": "python",
   "name": "python3"
  },
  "language_info": {
   "codemirror_mode": {
    "name": "ipython",
    "version": 3
   },
   "file_extension": ".py",
   "mimetype": "text/x-python",
   "name": "python",
   "nbconvert_exporter": "python",
   "pygments_lexer": "ipython3",
   "version": "3.7.3"
  },
  "toc": {
   "base_numbering": 1,
   "nav_menu": {},
   "number_sections": true,
   "sideBar": true,
   "skip_h1_title": false,
   "title_cell": "Table of Contents",
   "title_sidebar": "Contents",
   "toc_cell": false,
   "toc_position": {},
   "toc_section_display": true,
   "toc_window_display": false
  }
 },
 "nbformat": 4,
 "nbformat_minor": 2
}
